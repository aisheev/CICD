{
 "cells": [
  {
   "cell_type": "code",
   "execution_count": 1,
   "metadata": {},
   "outputs": [
    {
     "name": "stdout",
     "output_type": "stream",
     "text": [
      "Requirement already satisfied: pandas in /Users/ash/anaconda3/lib/python3.11/site-packages (2.0.3)\n",
      "Requirement already satisfied: openpyxl in /Users/ash/anaconda3/lib/python3.11/site-packages (3.0.10)\n",
      "Collecting xlsxwriter\n",
      "  Obtaining dependency information for xlsxwriter from https://files.pythonhosted.org/packages/f7/3e/05ba2194cd5073602422859c949a4f21310a3c49bf8dccde9e03d4522b11/XlsxWriter-3.1.9-py3-none-any.whl.metadata\n",
      "  Downloading XlsxWriter-3.1.9-py3-none-any.whl.metadata (2.6 kB)\n",
      "Requirement already satisfied: python-dateutil>=2.8.2 in /Users/ash/anaconda3/lib/python3.11/site-packages (from pandas) (2.8.2)\n",
      "Requirement already satisfied: pytz>=2020.1 in /Users/ash/anaconda3/lib/python3.11/site-packages (from pandas) (2023.3.post1)\n",
      "Requirement already satisfied: tzdata>=2022.1 in /Users/ash/anaconda3/lib/python3.11/site-packages (from pandas) (2023.3)\n",
      "Requirement already satisfied: numpy>=1.21.0 in /Users/ash/anaconda3/lib/python3.11/site-packages (from pandas) (1.24.3)\n",
      "Requirement already satisfied: et_xmlfile in /Users/ash/anaconda3/lib/python3.11/site-packages (from openpyxl) (1.1.0)\n",
      "Requirement already satisfied: six>=1.5 in /Users/ash/anaconda3/lib/python3.11/site-packages (from python-dateutil>=2.8.2->pandas) (1.16.0)\n",
      "Downloading XlsxWriter-3.1.9-py3-none-any.whl (154 kB)\n",
      "\u001b[2K   \u001b[90m━━━━━━━━━━━━━━━━━━━━━━━━━━━━━━━━━━━━━━━━\u001b[0m \u001b[32m154.8/154.8 kB\u001b[0m \u001b[31m3.0 MB/s\u001b[0m eta \u001b[36m0:00:00\u001b[0ma \u001b[36m0:00:01\u001b[0m\n",
      "\u001b[?25hInstalling collected packages: xlsxwriter\n",
      "Successfully installed xlsxwriter-3.1.9\n",
      "Note: you may need to restart the kernel to use updated packages.\n"
     ]
    }
   ],
   "source": [
    "pip install pandas openpyxl xlsxwriter\n"
   ]
  },
  {
   "cell_type": "code",
   "execution_count": 14,
   "metadata": {},
   "outputs": [
    {
     "name": "stdout",
     "output_type": "stream",
     "text": [
      "Requirement already satisfied: pandas in /Users/ash/anaconda3/lib/python3.11/site-packages (2.0.3)\n",
      "Requirement already satisfied: openpyxl in /Users/ash/anaconda3/lib/python3.11/site-packages (3.0.10)\n",
      "Requirement already satisfied: xlsxwriter in /Users/ash/anaconda3/lib/python3.11/site-packages (3.1.9)\n",
      "Requirement already satisfied: python-dateutil>=2.8.2 in /Users/ash/anaconda3/lib/python3.11/site-packages (from pandas) (2.8.2)\n",
      "Requirement already satisfied: pytz>=2020.1 in /Users/ash/anaconda3/lib/python3.11/site-packages (from pandas) (2023.3.post1)\n",
      "Requirement already satisfied: tzdata>=2022.1 in /Users/ash/anaconda3/lib/python3.11/site-packages (from pandas) (2023.3)\n",
      "Requirement already satisfied: numpy>=1.21.0 in /Users/ash/anaconda3/lib/python3.11/site-packages (from pandas) (1.24.3)\n",
      "Requirement already satisfied: et_xmlfile in /Users/ash/anaconda3/lib/python3.11/site-packages (from openpyxl) (1.1.0)\n",
      "Requirement already satisfied: six>=1.5 in /Users/ash/anaconda3/lib/python3.11/site-packages (from python-dateutil>=2.8.2->pandas) (1.16.0)\n",
      "Results saved to /Users//ash//Documents//Pattern Recognition//pso_results.xlsx\n"
     ]
    }
   ],
   "source": [
    "\n",
    "\n",
    "\n",
    "! pip install pandas openpyxl xlsxwriter\n",
    "import pandas as pd\n",
    "import numpy as np\n",
    "import importlib\n",
    "import benchmark_functions\n",
    "importlib.reload(benchmark_functions)\n",
    "from PSO import run_standard_pso # Adjust this to your actual PSO implementation\n",
    "from benchmark_functions import sphere, rosenbrock, step_2, quartic, schwefel_2_21, schwefel_2_22, foxholes, kowalik, six_hump_camel_back, levi_n13,rastrigin, griewank, ackley_1, schwefel_2_26, branin_rcos, goldstein_price, penalized_1\n",
    "\n",
    "# Define your list of benchmark functions to iterate over\n",
    "benchmark_functions = {\n",
    "    'sphere': sphere,\n",
    "    'Rosenbrock': rosenbrock,\n",
    "    'Step 2': step_2,\n",
    "    'Quartic': quartic,\n",
    "    'Schwefel 2.21': schwefel_2_21,\n",
    "    'Schwefel 2.22': schwefel_2_22,\n",
    "    'Foxholes': foxholes,\n",
    "    'Kowalik':kowalik,\n",
    "    'Six_hump_camel_back':six_hump_camel_back,\n",
    "    # 'hartman_3':hartman_3,\n",
    "    # 'hartman_6':hartman_6,\n",
    "    'Levi_n13':levi_n13,\n",
    "    'Rastrigin':rastrigin,\n",
    "    'Griewank':griewank,\n",
    "    'Ackley_1':ackley_1,\n",
    "    'Schwefel_2_26':schwefel_2_26,\n",
    "    'Branin_rcos':branin_rcos,\n",
    "    'Goldstein_price':goldstein_price,\n",
    "    'Penalized_1':penalized_1,\n",
    "    # 'shekel_1':shekel_1,\n",
    "    # 'shekel_2':shekel_2,\n",
    "    # 'shekel_3':shekel_3\n",
    "}\n",
    "\n",
    "# Number of iterations and runs\n",
    "n_iterations = 30  # Assuming you want to run each function 30 times\n",
    "\n",
    "# Prepare an empty DataFrame to store results\n",
    "columns = ['Algorithm Type', 'Benchmark Function', 'Run Number', 'Best Value', 'Convergence Time', 'Additional Notes']\n",
    "results_df = pd.DataFrame(columns=columns)\n",
    "\n",
    "# Example PSO configuration\n",
    "n_particles = 30\n",
    "n_dimensions = 2\n",
    "max_iter = 100\n",
    "bounds = (-10, 10)\n",
    "\n",
    "# Iterate over benchmark functions and runs\n",
    "for func_name, func in benchmark_functions.items():\n",
    "    for run_number in range(1, n_iterations + 1):\n",
    "        best_position, best_value = run_standard_pso(obj_func=func, n_particles=n_particles, n_dimensions=n_dimensions, max_iter=max_iter, bounds=bounds)\n",
    "        convergence_time = \"N/A\"  # Placeholder, adjust based on your actual timing logic\n",
    "        additional_notes = \"N/A\"  # Placeholder for any additional notes\n",
    "        \n",
    "        # Append results to the DataFrame\n",
    "    new_row = pd.DataFrame([{\n",
    "    'Algorithm Type': 'Standard PSO',\n",
    "    'Benchmark Function': func_name,\n",
    "    'Run Number': run_number,\n",
    "    'Best Value': best_value,\n",
    "    'Convergence Time': convergence_time,\n",
    "    'Additional Notes': additional_notes\n",
    "}])\n",
    "results_df = pd.concat([results_df, new_row], ignore_index=True)\n",
    "\n",
    "\n",
    "# Save the DataFrame to an Excel file\n",
    "excel_path = '/Users/ash/Documents/Pattern Recognition/pso_results.xlsx'\n",
    "\n",
    "with pd.ExcelWriter(excel_path, engine='xlsxwriter') as writer:\n",
    "    results_df.to_excel(writer, index=False)\n",
    "\n",
    "print(f\"Results saved to {'/Users//ash//Documents//Pattern Recognition//pso_results.xlsx'}\")\n"
   ]
  }
 ],
 "metadata": {
  "kernelspec": {
   "display_name": "base",
   "language": "python",
   "name": "python3"
  },
  "language_info": {
   "codemirror_mode": {
    "name": "ipython",
    "version": 3
   },
   "file_extension": ".py",
   "mimetype": "text/x-python",
   "name": "python",
   "nbconvert_exporter": "python",
   "pygments_lexer": "ipython3",
   "version": "3.11.5"
  }
 },
 "nbformat": 4,
 "nbformat_minor": 2
}
