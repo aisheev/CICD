{
 "cells": [
  {
   "cell_type": "code",
   "execution_count": 2,
   "metadata": {},
   "outputs": [
    {
     "name": "stdout",
     "output_type": "stream",
     "text": [
      "Writing PSO.py\n"
     ]
    }
   ],
   "source": [
    "%%writefile PSO.py\n",
    "import numpy as np\n",
    "def run_standard_pso(obj_func, n_particles=30, n_dimensions=2, max_iter=100, bounds=(-10, 10), w_max=0.9, w_min=0.4):\n",
    "    # Initialize particles and velocities\n",
    "    particles = np.random.uniform(bounds[0], bounds[1], (n_particles, n_dimensions))\n",
    "    velocity = np.zeros((n_particles, n_dimensions))\n",
    "    \n",
    "    # Personal best positions and values\n",
    "    pbest = np.copy(particles)\n",
    "    pbest_values = np.array([obj_func(x) for x in particles])\n",
    "    \n",
    "    # Global best position and value\n",
    "    gbest_value = np.min(pbest_values)\n",
    "    gbest = particles[np.argmin(pbest_values)]\n",
    "    \n",
    "    # Velocity clamping\n",
    "    v_max = (bounds[1] - bounds[0]) * 0.2  # Clamping factor\n",
    "\n",
    "    for t in range(max_iter):\n",
    "        w = w_max - (w_max - w_min) * t / max_iter  # Linearly decreasing inertia weight\n",
    "\n",
    "        for i in range(n_particles):\n",
    "            r1, r2 = np.random.rand(2)  # Random coefficients\n",
    "\n",
    "            # Update velocities\n",
    "            velocity[i] = w * velocity[i] + \\\n",
    "                          1.49445 * r1 * (pbest[i] - particles[i]) + \\\n",
    "                          1.49445 * r2 * (gbest - particles[i])\n",
    "            \n",
    "            # Apply velocity clamping\n",
    "            velocity[i] = np.clip(velocity[i], -v_max, v_max)\n",
    "            \n",
    "            # Update positions\n",
    "            particles[i] += velocity[i]\n",
    "            \n",
    "            # Boundary condition handling\n",
    "            particles[i] = np.clip(particles[i], bounds[0], bounds[1])\n",
    "\n",
    "            # Update personal bests\n",
    "            current_value = obj_func(particles[i])\n",
    "            if current_value < pbest_values[i]:\n",
    "                pbest[i] = particles[i]\n",
    "                pbest_values[i] = current_value\n",
    "                \n",
    "                # Update global best\n",
    "                if current_value < gbest_value:\n",
    "                    gbest = particles[i]\n",
    "                    gbest_value = current_value\n",
    "\n",
    "    return gbest, gbest_value\n",
    "\n",
    "\n"
   ]
  }
 ],
 "metadata": {
  "kernelspec": {
   "display_name": "base",
   "language": "python",
   "name": "python3"
  },
  "language_info": {
   "codemirror_mode": {
    "name": "ipython",
    "version": 3
   },
   "file_extension": ".py",
   "mimetype": "text/x-python",
   "name": "python",
   "nbconvert_exporter": "python",
   "pygments_lexer": "ipython3",
   "version": "3.11.5"
  }
 },
 "nbformat": 4,
 "nbformat_minor": 2
}
