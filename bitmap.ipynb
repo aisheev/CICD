{
 "cells": [
  {
   "cell_type": "code",
   "execution_count": 14,
   "metadata": {},
   "outputs": [],
   "source": [
    "\n",
    "\n",
    "from PIL import Image\n",
    "import numpy as np\n",
    "\n",
    "def encrypt_image(image_path, encryption_key):\n",
    "    image = Image.open(image_path)\n",
    "    width, height = image.size\n",
    "    encrypted_image = Image.new('RGB', (width, height))\n",
    "\n",
    "    for x in range(width):\n",
    "        for y in range(height):\n",
    "            r, g, b = image.getpixel((x, y))\n",
    "            encrypted_pixel = [bit << 1 for bit in [r, g, b]]\n",
    "            encrypted_pixel = np.array(encrypted_pixel) ^ encryption_key\n",
    "            encrypted_image.putpixel((x, y), tuple(encrypted_pixel))\n",
    "\n",
    "    encrypted_image.save('encrypted_image.png')\n",
    "\n",
    "def decrypt_image(encrypted_image_path, decryption_key):\n",
    "    encrypted_image = Image.open(encrypted_image_path)\n",
    "    width, height = encrypted_image.size\n",
    "    decrypted_image = Image.new('RGB', (width, height))\n",
    "\n",
    "    for x in range(width):\n",
    "        for y in range(height):\n",
    "            r, g, b = encrypted_image.getpixel((x, y))\n",
    "            decrypted_pixel = np.array([bit << 1 for bit in [r, g, b]]) ^ decryption_key\n",
    "            decrypted_image.putpixel((x, y), tuple(decrypted_pixel))\n",
    "\n",
    "    decrypted_image.save('decrypted_image.png')\n",
    "\n",
    "encryption_key = 1 # Use any non-zero integer value as encryption key\n",
    "decryption_key = 1 # Use the same integer value as decryption key\n",
    "\n",
    "# Provide the path to your image file\n",
    "image_path = '/Users/ash/Downloads/buttercup.jpg'\n",
    "\n",
    "encrypt_image(image_path, encryption_key)\n",
    "decrypt_image('encrypted_image.png', decryption_key)\n",
    "\n"
   ]
  },
  {
   "cell_type": "code",
   "execution_count": null,
   "metadata": {},
   "outputs": [],
   "source": []
  }
 ],
 "metadata": {
  "kernelspec": {
   "display_name": "Python 3",
   "language": "python",
   "name": "python3"
  },
  "language_info": {
   "codemirror_mode": {
    "name": "ipython",
    "version": 3
   },
   "file_extension": ".py",
   "mimetype": "text/x-python",
   "name": "python",
   "nbconvert_exporter": "python",
   "pygments_lexer": "ipython3",
   "version": "3.12.0"
  }
 },
 "nbformat": 4,
 "nbformat_minor": 2
}
